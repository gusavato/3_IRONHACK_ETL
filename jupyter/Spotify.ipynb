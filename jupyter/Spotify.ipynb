{
 "cells": [
  {
   "cell_type": "markdown",
   "id": "5416115f",
   "metadata": {},
   "source": [
    " <a name='ind'/>"
   ]
  },
  {
   "cell_type": "markdown",
   "id": "11748f0b",
   "metadata": {},
   "source": [
    "# <ins>Indice</ins>:"
   ]
  },
  {
   "cell_type": "markdown",
   "id": "febfcaff",
   "metadata": {},
   "source": [
    "- ## [Extracción](#ext)\n",
    "- ## [Transformación](#trans)\n",
    "- ## [Carga](#load)"
   ]
  },
  {
   "cell_type": "code",
   "execution_count": 1,
   "id": "60a4adef",
   "metadata": {},
   "outputs": [],
   "source": [
    "import requests as rq\n",
    "import pandas as pd\n",
    "import pyarrow\n",
    "from joblib import Parallel, delayed\n",
    "from tqdm import tqdm\n",
    "import time\n",
    "import pymongo\n",
    "from Spotify_id import *"
   ]
  },
  {
   "cell_type": "markdown",
   "id": "05e32f7a",
   "metadata": {},
   "source": [
    "En este notebook procederemos a obtener la información de Spotify para cada uno de los artistas de todos los festivales que hemos obtenido en el notebook Songkick.ipynb. Para ello nos ayudaremos de la API, y de la [documentación](https://developer.spotify.com/documentation/web-api) disponible en internet para el uso de la misma"
   ]
  },
  {
   "cell_type": "markdown",
   "id": "b8ca7664",
   "metadata": {},
   "source": [
    "<a name='ext'/>"
   ]
  },
  {
   "cell_type": "markdown",
   "id": "3612d9e0",
   "metadata": {},
   "source": [
    "###### ⬆️ [Indice](#ind)"
   ]
  },
  {
   "cell_type": "markdown",
   "id": "a08888c5",
   "metadata": {},
   "source": [
    "### Extracción\n",
    "***"
   ]
  },
  {
   "cell_type": "code",
   "execution_count": 2,
   "id": "45caa770",
   "metadata": {},
   "outputs": [
    {
     "data": {
      "text/plain": [
       "<Response [200]>"
      ]
     },
     "execution_count": 2,
     "metadata": {},
     "output_type": "execute_result"
    }
   ],
   "source": [
    "# Obtener el TOKEN\n",
    "\n",
    "AUTH_URL = \"https://accounts.spotify.com/api/token\"\n",
    "\n",
    "creds = {\n",
    "    \"grant_type\": \"client_credentials\",\n",
    "    \"client_id\": Client_ID,\n",
    "    \"client_secret\": Client_secret\n",
    "}\n",
    "\n",
    "response = rq.post(AUTH_URL, \n",
    "                         data=creds, \n",
    "                         headers={\"Content-Type\": \"application/x-www-form-urlencoded\"})\n",
    "\n",
    "\n",
    "TOKEN = response.json()['access_token']\n",
    "\n",
    "# Conexión con la API\n",
    "\n",
    "url = \"https://api.spotify.com/\"\n",
    "\n",
    "headers = {\"Authorization\": f'Bearer {TOKEN}'}\n",
    "\n",
    "response = rq.get(url,headers=headers)\n",
    "response"
   ]
  },
  {
   "cell_type": "code",
   "execution_count": 3,
   "id": "190796f9",
   "metadata": {},
   "outputs": [
    {
     "data": {
      "text/html": [
       "<div>\n",
       "<style scoped>\n",
       "    .dataframe tbody tr th:only-of-type {\n",
       "        vertical-align: middle;\n",
       "    }\n",
       "\n",
       "    .dataframe tbody tr th {\n",
       "        vertical-align: top;\n",
       "    }\n",
       "\n",
       "    .dataframe thead th {\n",
       "        text-align: right;\n",
       "    }\n",
       "</style>\n",
       "<table border=\"1\" class=\"dataframe\">\n",
       "  <thead>\n",
       "    <tr style=\"text-align: right;\">\n",
       "      <th></th>\n",
       "      <th>Grupos</th>\n",
       "    </tr>\n",
       "  </thead>\n",
       "  <tbody>\n",
       "    <tr>\n",
       "      <th>0</th>\n",
       "      <td>Del Water Gap</td>\n",
       "    </tr>\n",
       "    <tr>\n",
       "      <th>1</th>\n",
       "      <td>León Benavente</td>\n",
       "    </tr>\n",
       "    <tr>\n",
       "      <th>2</th>\n",
       "      <td>ATB</td>\n",
       "    </tr>\n",
       "    <tr>\n",
       "      <th>3</th>\n",
       "      <td>Tyler Joe Miller</td>\n",
       "    </tr>\n",
       "    <tr>\n",
       "      <th>4</th>\n",
       "      <td>Loverground</td>\n",
       "    </tr>\n",
       "    <tr>\n",
       "      <th>...</th>\n",
       "      <td>...</td>\n",
       "    </tr>\n",
       "    <tr>\n",
       "      <th>5169</th>\n",
       "      <td>Cari Cari</td>\n",
       "    </tr>\n",
       "    <tr>\n",
       "      <th>5170</th>\n",
       "      <td>Iggy Pop</td>\n",
       "    </tr>\n",
       "    <tr>\n",
       "      <th>5171</th>\n",
       "      <td>Great Northern</td>\n",
       "    </tr>\n",
       "    <tr>\n",
       "      <th>5172</th>\n",
       "      <td>Morcheeba</td>\n",
       "    </tr>\n",
       "    <tr>\n",
       "      <th>5173</th>\n",
       "      <td>H2O</td>\n",
       "    </tr>\n",
       "  </tbody>\n",
       "</table>\n",
       "<p>5174 rows × 1 columns</p>\n",
       "</div>"
      ],
      "text/plain": [
       "                Grupos\n",
       "0        Del Water Gap\n",
       "1       León Benavente\n",
       "2                  ATB\n",
       "3     Tyler Joe Miller\n",
       "4          Loverground\n",
       "...                ...\n",
       "5169         Cari Cari\n",
       "5170          Iggy Pop\n",
       "5171    Great Northern\n",
       "5172         Morcheeba\n",
       "5173               H2O\n",
       "\n",
       "[5174 rows x 1 columns]"
      ]
     },
     "execution_count": 3,
     "metadata": {},
     "output_type": "execute_result"
    }
   ],
   "source": [
    "# Cargamos los grupos\n",
    "\n",
    "grupos = pd.read_csv('../data/grupos.csv')\n",
    "grupos"
   ]
  },
  {
   "cell_type": "markdown",
   "id": "7bcc519f",
   "metadata": {},
   "source": [
    "Tras consultar la documentación, podremos crear una lista de direcciones url para cada grupo que nos permitan lanzar las consultas a la API correctamente"
   ]
  },
  {
   "cell_type": "code",
   "execution_count": 4,
   "id": "7d095b25",
   "metadata": {
    "scrolled": false
   },
   "outputs": [],
   "source": [
    "# Para la consulta debemos sustituir los espacios por el caracter '+'\n",
    "consulta = [x.replace(' ','+') for x in grupos.Grupos]\n",
    "\n",
    "# Construimos una lista con la url correspondiente para cada grupo\n",
    "urls = [f'https://api.spotify.com/v1/search?q=artist%3A{artist}&type=artist&limit=50&offset=0' for artist in consulta]\n",
    "\n",
    "# Creamos una lista de diccionarios con la informacion de cada grupo y con su url\n",
    "artist_url = [{'artist':artist,'url':url} for artist,url in zip(grupos.Grupos,urls)]"
   ]
  },
  {
   "cell_type": "markdown",
   "id": "c76a0e27",
   "metadata": {},
   "source": [
    "Para automatizar las consultas creamos la función *search_spotify_info()*, que recibe como argumento un diccionario con la información del grupo y su url de consulta para la API. Si la consulta es correcta, devolverá un json con la información del artista"
   ]
  },
  {
   "cell_type": "code",
   "execution_count": 5,
   "id": "7dbce098",
   "metadata": {},
   "outputs": [],
   "source": [
    "def search_spotify_info(art_url):\n",
    "    time.sleep(0.20)     # Pausamos el tiempo entre consultas. Evitamos que nos baneen\n",
    "       # probamos conexión\n",
    "    try:\n",
    "        response = rq.get(art_url['url'],headers=headers)\n",
    "        rjson = response.json()['artists']['items']\n",
    "        for index, item in enumerate(rjson):\n",
    "            if item['name'].lower() == art_url['artist'].lower():\n",
    "                return rjson[index]\n",
    "        \n",
    "        raise Exception    # Si no se han encontrado el grupo lanzamos excepción para devolver None\n",
    "    except:\n",
    "        return{'external_urls': None,\n",
    "               'followers': None,\n",
    "               'genres': None,\n",
    "               'href': None,\n",
    "               'id': None,\n",
    "               'images' : None,\n",
    "               'name' : None,\n",
    "               'popularity' : None,\n",
    "               'type' : None,\n",
    "               'uri' : None}"
   ]
  },
  {
   "cell_type": "code",
   "execution_count": 6,
   "id": "2cd8994b",
   "metadata": {
    "scrolled": true
   },
   "outputs": [
    {
     "name": "stderr",
     "output_type": "stream",
     "text": [
      "100%|██████████████████████████████████████████████████████████████████████████████| 5174/5174 [34:33<00:00,  2.50it/s]\n"
     ]
    }
   ],
   "source": [
    "# Este proceso no puede ser paralelizable, ya que demasiadas peticiones por segundo a la API, provoca que se nos \n",
    "# revoquen los permisos\n",
    "\n",
    "lst_artist_info = [search_spotify_info(art_url) for art_url in tqdm(artist_url)]"
   ]
  },
  {
   "cell_type": "markdown",
   "id": "ab78fb10",
   "metadata": {},
   "source": [
    "<a name='trans'/>"
   ]
  },
  {
   "cell_type": "markdown",
   "id": "8513e9f6",
   "metadata": {},
   "source": [
    "###### ⬆️ [Indice](#ind)"
   ]
  },
  {
   "cell_type": "markdown",
   "id": "5b8660bb",
   "metadata": {},
   "source": [
    "### Transformación\n",
    "***"
   ]
  },
  {
   "cell_type": "code",
   "execution_count": 7,
   "id": "63e6e8be",
   "metadata": {},
   "outputs": [
    {
     "name": "stdout",
     "output_type": "stream",
     "text": [
      "<class 'pandas.core.frame.DataFrame'>\n",
      "RangeIndex: 5174 entries, 0 to 5173\n",
      "Data columns (total 11 columns):\n",
      " #   Column         Non-Null Count  Dtype  \n",
      "---  ------         --------------  -----  \n",
      " 0   Grupos         5174 non-null   object \n",
      " 1   external_urls  4615 non-null   object \n",
      " 2   followers      4615 non-null   object \n",
      " 3   genres         4615 non-null   object \n",
      " 4   href           4615 non-null   object \n",
      " 5   id             4615 non-null   object \n",
      " 6   images         4615 non-null   object \n",
      " 7   name           4615 non-null   object \n",
      " 8   popularity     4615 non-null   float64\n",
      " 9   type           4615 non-null   object \n",
      " 10  uri            4615 non-null   object \n",
      "dtypes: float64(1), object(10)\n",
      "memory usage: 444.8+ KB\n"
     ]
    }
   ],
   "source": [
    "grupos = pd.concat([grupos,pd.DataFrame(lst_artist_info)],axis=1)\n",
    "grupos.info()"
   ]
  },
  {
   "cell_type": "code",
   "execution_count": 19,
   "id": "aa2d3b7b",
   "metadata": {},
   "outputs": [
    {
     "data": {
      "text/html": [
       "<div>\n",
       "<style scoped>\n",
       "    .dataframe tbody tr th:only-of-type {\n",
       "        vertical-align: middle;\n",
       "    }\n",
       "\n",
       "    .dataframe tbody tr th {\n",
       "        vertical-align: top;\n",
       "    }\n",
       "\n",
       "    .dataframe thead th {\n",
       "        text-align: right;\n",
       "    }\n",
       "</style>\n",
       "<table border=\"1\" class=\"dataframe\">\n",
       "  <thead>\n",
       "    <tr style=\"text-align: right;\">\n",
       "      <th></th>\n",
       "      <th>Grupos</th>\n",
       "      <th>external_urls</th>\n",
       "      <th>followers</th>\n",
       "      <th>genres</th>\n",
       "      <th>href</th>\n",
       "      <th>id</th>\n",
       "      <th>images</th>\n",
       "      <th>name</th>\n",
       "      <th>popularity</th>\n",
       "      <th>type</th>\n",
       "      <th>uri</th>\n",
       "    </tr>\n",
       "  </thead>\n",
       "  <tbody>\n",
       "    <tr>\n",
       "      <th>5169</th>\n",
       "      <td>Cari Cari</td>\n",
       "      <td>{'spotify': 'https://open.spotify.com/artist/0...</td>\n",
       "      <td>{'href': None, 'total': 48689}</td>\n",
       "      <td>[austrian pop]</td>\n",
       "      <td>https://api.spotify.com/v1/artists/0ey6crPk5fX...</td>\n",
       "      <td>0ey6crPk5fXQWkq21iPTMV</td>\n",
       "      <td>[{'height': 640, 'url': 'https://i.scdn.co/ima...</td>\n",
       "      <td>Cari Cari</td>\n",
       "      <td>48.0</td>\n",
       "      <td>artist</td>\n",
       "      <td>spotify:artist:0ey6crPk5fXQWkq21iPTMV</td>\n",
       "    </tr>\n",
       "    <tr>\n",
       "      <th>5170</th>\n",
       "      <td>Iggy Pop</td>\n",
       "      <td>{'spotify': 'https://open.spotify.com/artist/3...</td>\n",
       "      <td>{'href': None, 'total': 1475500}</td>\n",
       "      <td>[alternative rock, glam rock, permanent wave, ...</td>\n",
       "      <td>https://api.spotify.com/v1/artists/33EUXrFKGjp...</td>\n",
       "      <td>33EUXrFKGjpUSGacqEHhU4</td>\n",
       "      <td>[{'height': 640, 'url': 'https://i.scdn.co/ima...</td>\n",
       "      <td>Iggy Pop</td>\n",
       "      <td>63.0</td>\n",
       "      <td>artist</td>\n",
       "      <td>spotify:artist:33EUXrFKGjpUSGacqEHhU4</td>\n",
       "    </tr>\n",
       "    <tr>\n",
       "      <th>5171</th>\n",
       "      <td>Great Northern</td>\n",
       "      <td>{'spotify': 'https://open.spotify.com/artist/3...</td>\n",
       "      <td>{'href': None, 'total': 5994}</td>\n",
       "      <td>[deep acoustic pop, la indie]</td>\n",
       "      <td>https://api.spotify.com/v1/artists/3vEgkhVW7YF...</td>\n",
       "      <td>3vEgkhVW7YFsvSUjzWQ6ji</td>\n",
       "      <td>[{'height': 640, 'url': 'https://i.scdn.co/ima...</td>\n",
       "      <td>Great Northern</td>\n",
       "      <td>21.0</td>\n",
       "      <td>artist</td>\n",
       "      <td>spotify:artist:3vEgkhVW7YFsvSUjzWQ6ji</td>\n",
       "    </tr>\n",
       "    <tr>\n",
       "      <th>5172</th>\n",
       "      <td>Morcheeba</td>\n",
       "      <td>{'spotify': 'https://open.spotify.com/artist/6...</td>\n",
       "      <td>{'href': None, 'total': 772891}</td>\n",
       "      <td>[downtempo, electronica, trip hop]</td>\n",
       "      <td>https://api.spotify.com/v1/artists/6bWxFw65IEJ...</td>\n",
       "      <td>6bWxFw65IEJzBYjx3SxUXd</td>\n",
       "      <td>[{'height': 640, 'url': 'https://i.scdn.co/ima...</td>\n",
       "      <td>Morcheeba</td>\n",
       "      <td>60.0</td>\n",
       "      <td>artist</td>\n",
       "      <td>spotify:artist:6bWxFw65IEJzBYjx3SxUXd</td>\n",
       "    </tr>\n",
       "    <tr>\n",
       "      <th>5173</th>\n",
       "      <td>H2O</td>\n",
       "      <td>{'spotify': 'https://open.spotify.com/artist/4...</td>\n",
       "      <td>{'href': None, 'total': 90036}</td>\n",
       "      <td>[hardcore, nyhc, punk, skate punk, straight edge]</td>\n",
       "      <td>https://api.spotify.com/v1/artists/4mQm8gcXNNy...</td>\n",
       "      <td>4mQm8gcXNNyzNQRqYKTKqo</td>\n",
       "      <td>[{'height': 640, 'url': 'https://i.scdn.co/ima...</td>\n",
       "      <td>H2O</td>\n",
       "      <td>39.0</td>\n",
       "      <td>artist</td>\n",
       "      <td>spotify:artist:4mQm8gcXNNyzNQRqYKTKqo</td>\n",
       "    </tr>\n",
       "  </tbody>\n",
       "</table>\n",
       "</div>"
      ],
      "text/plain": [
       "              Grupos                                      external_urls   \n",
       "5169       Cari Cari  {'spotify': 'https://open.spotify.com/artist/0...  \\\n",
       "5170        Iggy Pop  {'spotify': 'https://open.spotify.com/artist/3...   \n",
       "5171  Great Northern  {'spotify': 'https://open.spotify.com/artist/3...   \n",
       "5172       Morcheeba  {'spotify': 'https://open.spotify.com/artist/6...   \n",
       "5173             H2O  {'spotify': 'https://open.spotify.com/artist/4...   \n",
       "\n",
       "                             followers   \n",
       "5169    {'href': None, 'total': 48689}  \\\n",
       "5170  {'href': None, 'total': 1475500}   \n",
       "5171     {'href': None, 'total': 5994}   \n",
       "5172   {'href': None, 'total': 772891}   \n",
       "5173    {'href': None, 'total': 90036}   \n",
       "\n",
       "                                                 genres   \n",
       "5169                                     [austrian pop]  \\\n",
       "5170  [alternative rock, glam rock, permanent wave, ...   \n",
       "5171                      [deep acoustic pop, la indie]   \n",
       "5172                 [downtempo, electronica, trip hop]   \n",
       "5173  [hardcore, nyhc, punk, skate punk, straight edge]   \n",
       "\n",
       "                                                   href   \n",
       "5169  https://api.spotify.com/v1/artists/0ey6crPk5fX...  \\\n",
       "5170  https://api.spotify.com/v1/artists/33EUXrFKGjp...   \n",
       "5171  https://api.spotify.com/v1/artists/3vEgkhVW7YF...   \n",
       "5172  https://api.spotify.com/v1/artists/6bWxFw65IEJ...   \n",
       "5173  https://api.spotify.com/v1/artists/4mQm8gcXNNy...   \n",
       "\n",
       "                          id   \n",
       "5169  0ey6crPk5fXQWkq21iPTMV  \\\n",
       "5170  33EUXrFKGjpUSGacqEHhU4   \n",
       "5171  3vEgkhVW7YFsvSUjzWQ6ji   \n",
       "5172  6bWxFw65IEJzBYjx3SxUXd   \n",
       "5173  4mQm8gcXNNyzNQRqYKTKqo   \n",
       "\n",
       "                                                 images            name   \n",
       "5169  [{'height': 640, 'url': 'https://i.scdn.co/ima...       Cari Cari  \\\n",
       "5170  [{'height': 640, 'url': 'https://i.scdn.co/ima...        Iggy Pop   \n",
       "5171  [{'height': 640, 'url': 'https://i.scdn.co/ima...  Great Northern   \n",
       "5172  [{'height': 640, 'url': 'https://i.scdn.co/ima...       Morcheeba   \n",
       "5173  [{'height': 640, 'url': 'https://i.scdn.co/ima...             H2O   \n",
       "\n",
       "      popularity    type                                    uri  \n",
       "5169        48.0  artist  spotify:artist:0ey6crPk5fXQWkq21iPTMV  \n",
       "5170        63.0  artist  spotify:artist:33EUXrFKGjpUSGacqEHhU4  \n",
       "5171        21.0  artist  spotify:artist:3vEgkhVW7YFsvSUjzWQ6ji  \n",
       "5172        60.0  artist  spotify:artist:6bWxFw65IEJzBYjx3SxUXd  \n",
       "5173        39.0  artist  spotify:artist:4mQm8gcXNNyzNQRqYKTKqo  "
      ]
     },
     "execution_count": 19,
     "metadata": {},
     "output_type": "execute_result"
    }
   ],
   "source": [
    "grupos.tail()"
   ]
  },
  {
   "cell_type": "code",
   "execution_count": 31,
   "id": "ee51eebc",
   "metadata": {},
   "outputs": [],
   "source": [
    "# Guardamos los datos antes de transformarlos por seguridad\n",
    "\n",
    "grupos.to_parquet('../data/grupos_spotify_raw.parquet',index=False,engine='pyarrow')"
   ]
  },
  {
   "cell_type": "markdown",
   "id": "f728f53b",
   "metadata": {},
   "source": [
    "Hay grupos de los cuales no se ha podido obtener la información de la API, los separaremos del dataframe y los guardaremos aparte para poder completar esta información más adelanta"
   ]
  },
  {
   "cell_type": "code",
   "execution_count": 18,
   "id": "a67aaf7d",
   "metadata": {},
   "outputs": [
    {
     "data": {
      "text/html": [
       "<div>\n",
       "<style scoped>\n",
       "    .dataframe tbody tr th:only-of-type {\n",
       "        vertical-align: middle;\n",
       "    }\n",
       "\n",
       "    .dataframe tbody tr th {\n",
       "        vertical-align: top;\n",
       "    }\n",
       "\n",
       "    .dataframe thead th {\n",
       "        text-align: right;\n",
       "    }\n",
       "</style>\n",
       "<table border=\"1\" class=\"dataframe\">\n",
       "  <thead>\n",
       "    <tr style=\"text-align: right;\">\n",
       "      <th></th>\n",
       "      <th>Grupos</th>\n",
       "      <th>external_urls</th>\n",
       "      <th>followers</th>\n",
       "      <th>genres</th>\n",
       "      <th>href</th>\n",
       "      <th>id</th>\n",
       "      <th>images</th>\n",
       "      <th>name</th>\n",
       "      <th>popularity</th>\n",
       "      <th>type</th>\n",
       "      <th>uri</th>\n",
       "    </tr>\n",
       "  </thead>\n",
       "  <tbody>\n",
       "    <tr>\n",
       "      <th>0</th>\n",
       "      <td>Morgan (ES)</td>\n",
       "      <td>None</td>\n",
       "      <td>None</td>\n",
       "      <td>None</td>\n",
       "      <td>None</td>\n",
       "      <td>None</td>\n",
       "      <td>None</td>\n",
       "      <td>None</td>\n",
       "      <td>NaN</td>\n",
       "      <td>None</td>\n",
       "      <td>None</td>\n",
       "    </tr>\n",
       "    <tr>\n",
       "      <th>1</th>\n",
       "      <td>Marwa Belhaj Youssef</td>\n",
       "      <td>None</td>\n",
       "      <td>None</td>\n",
       "      <td>None</td>\n",
       "      <td>None</td>\n",
       "      <td>None</td>\n",
       "      <td>None</td>\n",
       "      <td>None</td>\n",
       "      <td>NaN</td>\n",
       "      <td>None</td>\n",
       "      <td>None</td>\n",
       "    </tr>\n",
       "    <tr>\n",
       "      <th>2</th>\n",
       "      <td>THUMPER (IRE)</td>\n",
       "      <td>None</td>\n",
       "      <td>None</td>\n",
       "      <td>None</td>\n",
       "      <td>None</td>\n",
       "      <td>None</td>\n",
       "      <td>None</td>\n",
       "      <td>None</td>\n",
       "      <td>NaN</td>\n",
       "      <td>None</td>\n",
       "      <td>None</td>\n",
       "    </tr>\n",
       "    <tr>\n",
       "      <th>3</th>\n",
       "      <td>SIMONA (BCN)</td>\n",
       "      <td>None</td>\n",
       "      <td>None</td>\n",
       "      <td>None</td>\n",
       "      <td>None</td>\n",
       "      <td>None</td>\n",
       "      <td>None</td>\n",
       "      <td>None</td>\n",
       "      <td>NaN</td>\n",
       "      <td>None</td>\n",
       "      <td>None</td>\n",
       "    </tr>\n",
       "    <tr>\n",
       "      <th>4</th>\n",
       "      <td>MAREIKE BAUTZ</td>\n",
       "      <td>None</td>\n",
       "      <td>None</td>\n",
       "      <td>None</td>\n",
       "      <td>None</td>\n",
       "      <td>None</td>\n",
       "      <td>None</td>\n",
       "      <td>None</td>\n",
       "      <td>NaN</td>\n",
       "      <td>None</td>\n",
       "      <td>None</td>\n",
       "    </tr>\n",
       "    <tr>\n",
       "      <th>...</th>\n",
       "      <td>...</td>\n",
       "      <td>...</td>\n",
       "      <td>...</td>\n",
       "      <td>...</td>\n",
       "      <td>...</td>\n",
       "      <td>...</td>\n",
       "      <td>...</td>\n",
       "      <td>...</td>\n",
       "      <td>...</td>\n",
       "      <td>...</td>\n",
       "      <td>...</td>\n",
       "    </tr>\n",
       "    <tr>\n",
       "      <th>554</th>\n",
       "      <td>VXYX</td>\n",
       "      <td>None</td>\n",
       "      <td>None</td>\n",
       "      <td>None</td>\n",
       "      <td>None</td>\n",
       "      <td>None</td>\n",
       "      <td>None</td>\n",
       "      <td>None</td>\n",
       "      <td>NaN</td>\n",
       "      <td>None</td>\n",
       "      <td>None</td>\n",
       "    </tr>\n",
       "    <tr>\n",
       "      <th>555</th>\n",
       "      <td>Harleigh Colt (DJ Set) of Rainbow Kitten Surpr...</td>\n",
       "      <td>None</td>\n",
       "      <td>None</td>\n",
       "      <td>None</td>\n",
       "      <td>None</td>\n",
       "      <td>None</td>\n",
       "      <td>None</td>\n",
       "      <td>None</td>\n",
       "      <td>NaN</td>\n",
       "      <td>None</td>\n",
       "      <td>None</td>\n",
       "    </tr>\n",
       "    <tr>\n",
       "      <th>556</th>\n",
       "      <td>Jamz Supernova</td>\n",
       "      <td>None</td>\n",
       "      <td>None</td>\n",
       "      <td>None</td>\n",
       "      <td>None</td>\n",
       "      <td>None</td>\n",
       "      <td>None</td>\n",
       "      <td>None</td>\n",
       "      <td>NaN</td>\n",
       "      <td>None</td>\n",
       "      <td>None</td>\n",
       "    </tr>\n",
       "    <tr>\n",
       "      <th>557</th>\n",
       "      <td>STOR</td>\n",
       "      <td>None</td>\n",
       "      <td>None</td>\n",
       "      <td>None</td>\n",
       "      <td>None</td>\n",
       "      <td>None</td>\n",
       "      <td>None</td>\n",
       "      <td>None</td>\n",
       "      <td>NaN</td>\n",
       "      <td>None</td>\n",
       "      <td>None</td>\n",
       "    </tr>\n",
       "    <tr>\n",
       "      <th>558</th>\n",
       "      <td>MARJA DE SANCTIS</td>\n",
       "      <td>None</td>\n",
       "      <td>None</td>\n",
       "      <td>None</td>\n",
       "      <td>None</td>\n",
       "      <td>None</td>\n",
       "      <td>None</td>\n",
       "      <td>None</td>\n",
       "      <td>NaN</td>\n",
       "      <td>None</td>\n",
       "      <td>None</td>\n",
       "    </tr>\n",
       "  </tbody>\n",
       "</table>\n",
       "<p>559 rows × 11 columns</p>\n",
       "</div>"
      ],
      "text/plain": [
       "                                                Grupos external_urls   \n",
       "0                                          Morgan (ES)          None  \\\n",
       "1                                 Marwa Belhaj Youssef          None   \n",
       "2                                        THUMPER (IRE)          None   \n",
       "3                                         SIMONA (BCN)          None   \n",
       "4                                        MAREIKE BAUTZ          None   \n",
       "..                                                 ...           ...   \n",
       "554                                               VXYX          None   \n",
       "555  Harleigh Colt (DJ Set) of Rainbow Kitten Surpr...          None   \n",
       "556                                     Jamz Supernova          None   \n",
       "557                                               STOR          None   \n",
       "558                                   MARJA DE SANCTIS          None   \n",
       "\n",
       "    followers genres  href    id images  name  popularity  type   uri  \n",
       "0        None   None  None  None   None  None         NaN  None  None  \n",
       "1        None   None  None  None   None  None         NaN  None  None  \n",
       "2        None   None  None  None   None  None         NaN  None  None  \n",
       "3        None   None  None  None   None  None         NaN  None  None  \n",
       "4        None   None  None  None   None  None         NaN  None  None  \n",
       "..        ...    ...   ...   ...    ...   ...         ...   ...   ...  \n",
       "554      None   None  None  None   None  None         NaN  None  None  \n",
       "555      None   None  None  None   None  None         NaN  None  None  \n",
       "556      None   None  None  None   None  None         NaN  None  None  \n",
       "557      None   None  None  None   None  None         NaN  None  None  \n",
       "558      None   None  None  None   None  None         NaN  None  None  \n",
       "\n",
       "[559 rows x 11 columns]"
      ]
     },
     "execution_count": 18,
     "metadata": {},
     "output_type": "execute_result"
    }
   ],
   "source": [
    "grupos_nan = grupos[grupos.id.isna()].reset_index(drop=True)\n",
    "grupos_nan"
   ]
  },
  {
   "cell_type": "code",
   "execution_count": 29,
   "id": "2d202196",
   "metadata": {},
   "outputs": [],
   "source": [
    "grupos_nan.to_parquet('../data/grupos_nan_spotify_raw.parquet',index=False,engine='pyarrow')"
   ]
  },
  {
   "cell_type": "code",
   "execution_count": 30,
   "id": "03a54185",
   "metadata": {},
   "outputs": [],
   "source": [
    "grupos = grupos.dropna().reset_index(drop=True)\n",
    "grupos.to_parquet('../data/grupos_spotify_clean.parquet',index=False,engine='pyarrow')"
   ]
  },
  {
   "cell_type": "markdown",
   "id": "f5aa8967",
   "metadata": {},
   "source": [
    "<a name='load'/>"
   ]
  },
  {
   "cell_type": "markdown",
   "id": "452d1404",
   "metadata": {},
   "source": [
    "###### ⬆️ [Indice](#ind)"
   ]
  },
  {
   "cell_type": "markdown",
   "id": "40a4c621",
   "metadata": {},
   "source": [
    "### Carga\n",
    "***"
   ]
  },
  {
   "cell_type": "markdown",
   "id": "603ffc07",
   "metadata": {},
   "source": [
    "Procederemos a subir la información a la DB de Mongo creada en el notebook Songkick.ipynb"
   ]
  },
  {
   "cell_type": "code",
   "execution_count": 33,
   "id": "ed9c03af",
   "metadata": {},
   "outputs": [],
   "source": [
    "cursor = pymongo.MongoClient('mongodb://localhost:27017')"
   ]
  },
  {
   "cell_type": "code",
   "execution_count": 34,
   "id": "b1019b6e",
   "metadata": {},
   "outputs": [],
   "source": [
    "festivales = cursor.Festivales"
   ]
  },
  {
   "cell_type": "code",
   "execution_count": 39,
   "id": "d200b033",
   "metadata": {},
   "outputs": [],
   "source": [
    "artist_colec = festivales.artist_colec"
   ]
  },
  {
   "cell_type": "code",
   "execution_count": 40,
   "id": "92e7cf30",
   "metadata": {},
   "outputs": [
    {
     "data": {
      "text/plain": [
       "<pymongo.results.InsertManyResult at 0x202b88ec280>"
      ]
     },
     "execution_count": 40,
     "metadata": {},
     "output_type": "execute_result"
    }
   ],
   "source": [
    "artist_colec.insert_many(grupos.to_dict(orient='records'))"
   ]
  },
  {
   "cell_type": "code",
   "execution_count": 42,
   "id": "8c15c86c",
   "metadata": {},
   "outputs": [],
   "source": [
    "artist_nan_colec = festivales.artist_nan_colec"
   ]
  },
  {
   "cell_type": "code",
   "execution_count": 43,
   "id": "8c9b6acc",
   "metadata": {},
   "outputs": [
    {
     "data": {
      "text/plain": [
       "<pymongo.results.InsertManyResult at 0x202baf7efd0>"
      ]
     },
     "execution_count": 43,
     "metadata": {},
     "output_type": "execute_result"
    }
   ],
   "source": [
    "artist_nan_colec.insert_many(grupos_nan.to_dict(orient='records'))"
   ]
  }
 ],
 "metadata": {
  "kernelspec": {
   "display_name": "Python 3 (ipykernel)",
   "language": "python",
   "name": "python3"
  },
  "language_info": {
   "codemirror_mode": {
    "name": "ipython",
    "version": 3
   },
   "file_extension": ".py",
   "mimetype": "text/x-python",
   "name": "python",
   "nbconvert_exporter": "python",
   "pygments_lexer": "ipython3",
   "version": "3.9.15"
  },
  "varInspector": {
   "cols": {
    "lenName": 16,
    "lenType": 16,
    "lenVar": 40
   },
   "kernels_config": {
    "python": {
     "delete_cmd_postfix": "",
     "delete_cmd_prefix": "del ",
     "library": "var_list.py",
     "varRefreshCmd": "print(var_dic_list())"
    },
    "r": {
     "delete_cmd_postfix": ") ",
     "delete_cmd_prefix": "rm(",
     "library": "var_list.r",
     "varRefreshCmd": "cat(var_dic_list()) "
    }
   },
   "types_to_exclude": [
    "module",
    "function",
    "builtin_function_or_method",
    "instance",
    "_Feature"
   ],
   "window_display": false
  }
 },
 "nbformat": 4,
 "nbformat_minor": 5
}
