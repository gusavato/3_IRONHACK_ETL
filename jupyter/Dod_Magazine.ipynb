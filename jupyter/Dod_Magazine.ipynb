{
 "cells": [
  {
   "cell_type": "code",
   "execution_count": 1,
   "id": "1893bbe9",
   "metadata": {},
   "outputs": [],
   "source": [
    "import pandas as pd\n",
    "from selenium import webdriver\n",
    "from selenium.webdriver.chrome.options import Options\n",
    "from webdriver_manager.chrome import ChromeDriverManager\n",
    "from selenium.webdriver.common.by import By\n",
    "import time\n",
    "import warnings\n",
    "warnings.filterwarnings('ignore')  "
   ]
  },
  {
   "cell_type": "code",
   "execution_count": 2,
   "id": "8b27a707",
   "metadata": {},
   "outputs": [],
   "source": [
    "# Configuramos el driver\n",
    "opciones=Options()\n",
    "\n",
    "opciones.add_experimental_option('excludeSwitches', ['enable-automation'])\n",
    "opciones.add_experimental_option('useAutomationExtension', False)\n",
    "opciones.headless=False    # si True, no aperece la ventana (headless=no visible)\n",
    "opciones.add_argument('--start-maximized')         # comienza maximizado\n",
    "opciones.add_argument('--incognito')"
   ]
  },
  {
   "cell_type": "markdown",
   "id": "336bfdee",
   "metadata": {},
   "source": [
    "En este notebook se procederá a extraer el nombre de los festivales programados en España en 2023. Lo haremos a través de la página de [Dod Magazine](https://www.dodmagazine.es/festivales/), solo extraeremos los nombre y no más informacíon, ya que la estructura de la web no permite que se pueda automitazar la extracción mediante selenium o beautiful soup"
   ]
  },
  {
   "cell_type": "code",
   "execution_count": 3,
   "id": "aa823c11",
   "metadata": {},
   "outputs": [],
   "source": [
    "url = 'https://www.dodmagazine.es/festivales/'\n",
    "\n",
    "PATH = ChromeDriverManager().install()     \n",
    "\n",
    "driver=webdriver.Chrome(PATH,options=opciones)      \n",
    "\n",
    "driver.get(url)\n",
    "\n",
    "time.sleep(4)"
   ]
  },
  {
   "cell_type": "code",
   "execution_count": 4,
   "id": "e4ef4d98",
   "metadata": {},
   "outputs": [],
   "source": [
    "# Etiqueta del html donde se localizan el nombre de los festivales\n",
    "\n",
    "fest_sel = driver.find_elements(By.XPATH,'//div//div//div[@class=\"gred-item card\"]')"
   ]
  },
  {
   "cell_type": "code",
   "execution_count": 5,
   "id": "31b9a7b0",
   "metadata": {
    "scrolled": false
   },
   "outputs": [],
   "source": [
    "fests = []\n",
    "for fest in fest_sel:\n",
    "    try:\n",
    "        fests.append(fest.text.split('\\n')[0])\n",
    "    except:\n",
    "        None"
   ]
  },
  {
   "cell_type": "markdown",
   "id": "04ea4125",
   "metadata": {},
   "source": [
    "Guardamos esta información en un archivo CSV, para poder disponer de ella en otro notebook"
   ]
  },
  {
   "cell_type": "code",
   "execution_count": null,
   "id": "39834865",
   "metadata": {},
   "outputs": [],
   "source": [
    "pd.DataFrame({'Festival':fests}).to_csv('../data/Dod_fest.csv',index=False)"
   ]
  },
  {
   "cell_type": "code",
   "execution_count": 7,
   "id": "a53d5855",
   "metadata": {},
   "outputs": [
    {
     "data": {
      "text/html": [
       "<div>\n",
       "<style scoped>\n",
       "    .dataframe tbody tr th:only-of-type {\n",
       "        vertical-align: middle;\n",
       "    }\n",
       "\n",
       "    .dataframe tbody tr th {\n",
       "        vertical-align: top;\n",
       "    }\n",
       "\n",
       "    .dataframe thead th {\n",
       "        text-align: right;\n",
       "    }\n",
       "</style>\n",
       "<table border=\"1\" class=\"dataframe\">\n",
       "  <thead>\n",
       "    <tr style=\"text-align: right;\">\n",
       "      <th></th>\n",
       "      <th>Festival</th>\n",
       "    </tr>\n",
       "  </thead>\n",
       "  <tbody>\n",
       "    <tr>\n",
       "      <th>0</th>\n",
       "      <td>WAN 2023 Madrid</td>\n",
       "    </tr>\n",
       "    <tr>\n",
       "      <th>1</th>\n",
       "      <td>Inverfest 2023</td>\n",
       "    </tr>\n",
       "    <tr>\n",
       "      <th>2</th>\n",
       "      <td>Actual Festival 2023</td>\n",
       "    </tr>\n",
       "    <tr>\n",
       "      <th>3</th>\n",
       "      <td>Microsonidos 2023</td>\n",
       "    </tr>\n",
       "    <tr>\n",
       "      <th>4</th>\n",
       "      <td>Horteralia 2023</td>\n",
       "    </tr>\n",
       "  </tbody>\n",
       "</table>\n",
       "</div>"
      ],
      "text/plain": [
       "               Festival\n",
       "0       WAN 2023 Madrid\n",
       "1        Inverfest 2023\n",
       "2  Actual Festival 2023\n",
       "3     Microsonidos 2023\n",
       "4       Horteralia 2023"
      ]
     },
     "execution_count": 7,
     "metadata": {},
     "output_type": "execute_result"
    }
   ],
   "source": [
    "pd.DataFrame({'Festival':fests}).head()"
   ]
  },
  {
   "cell_type": "code",
   "execution_count": null,
   "id": "bfddfccf",
   "metadata": {},
   "outputs": [],
   "source": [
    "driver.quit()"
   ]
  }
 ],
 "metadata": {
  "kernelspec": {
   "display_name": "Python 3 (ipykernel)",
   "language": "python",
   "name": "python3"
  },
  "language_info": {
   "codemirror_mode": {
    "name": "ipython",
    "version": 3
   },
   "file_extension": ".py",
   "mimetype": "text/x-python",
   "name": "python",
   "nbconvert_exporter": "python",
   "pygments_lexer": "ipython3",
   "version": "3.9.15"
  },
  "varInspector": {
   "cols": {
    "lenName": 16,
    "lenType": 16,
    "lenVar": 40
   },
   "kernels_config": {
    "python": {
     "delete_cmd_postfix": "",
     "delete_cmd_prefix": "del ",
     "library": "var_list.py",
     "varRefreshCmd": "print(var_dic_list())"
    },
    "r": {
     "delete_cmd_postfix": ") ",
     "delete_cmd_prefix": "rm(",
     "library": "var_list.r",
     "varRefreshCmd": "cat(var_dic_list()) "
    }
   },
   "types_to_exclude": [
    "module",
    "function",
    "builtin_function_or_method",
    "instance",
    "_Feature"
   ],
   "window_display": false
  }
 },
 "nbformat": 4,
 "nbformat_minor": 5
}
