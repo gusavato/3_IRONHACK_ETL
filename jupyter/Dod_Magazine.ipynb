{
 "cells": [
  {
   "cell_type": "code",
   "execution_count": 1,
   "id": "1893bbe9",
   "metadata": {},
   "outputs": [],
   "source": [
    "import pandas as pd\n",
    "from selenium import webdriver\n",
    "from selenium.webdriver.chrome.options import Options\n",
    "from webdriver_manager.chrome import ChromeDriverManager\n",
    "from selenium.webdriver.common.by import By\n",
    "import time\n",
    "import warnings\n",
    "warnings.filterwarnings('ignore')  "
   ]
  },
  {
   "cell_type": "code",
   "execution_count": 2,
   "id": "8b27a707",
   "metadata": {},
   "outputs": [],
   "source": [
    "#driver configuration\n",
    "opciones=Options()\n",
    "\n",
    "\n",
    "opciones.add_experimental_option('excludeSwitches', ['enable-automation'])\n",
    "opciones.add_experimental_option('useAutomationExtension', False)\n",
    "opciones.headless=False    # si True, no aperece la ventana (headless=no visible)\n",
    "opciones.add_argument('--start-maximized')         # comienza maximizado\n",
    "# opciones.add_argument('Cookies')    # mantiene las cookies\n",
    "# opciones.add_extension('./Ad_Blocker/adblock.crx')       # adblocker\n",
    "opciones.add_argument('--incognito')"
   ]
  },
  {
   "cell_type": "code",
   "execution_count": 3,
   "id": "aa823c11",
   "metadata": {},
   "outputs": [
    {
     "name": "stderr",
     "output_type": "stream",
     "text": [
      "[WDM] - Downloading: 100%|████████████████████████████████████████████████████████| 6.80M/6.80M [00:00<00:00, 9.11MB/s]\n"
     ]
    }
   ],
   "source": [
    "url = 'https://www.dodmagazine.es/festivales/'\n",
    "\n",
    "PATH = ChromeDriverManager().install()     # instala el driver de chrome\n",
    "\n",
    "driver=webdriver.Chrome(PATH,options=opciones)       # abre una venta una de chrome\n",
    "\n",
    "driver.get(url)\n",
    "\n",
    "time.sleep(4)"
   ]
  },
  {
   "cell_type": "code",
   "execution_count": 4,
   "id": "e4ef4d98",
   "metadata": {},
   "outputs": [],
   "source": [
    "fest_sel = driver.find_elements(By.XPATH,'//div//div//div[@class=\"gred-item card\"]')"
   ]
  },
  {
   "cell_type": "code",
   "execution_count": 5,
   "id": "31b9a7b0",
   "metadata": {
    "scrolled": false
   },
   "outputs": [],
   "source": [
    "fests = []\n",
    "for fest in fest_sel:\n",
    "    try:\n",
    "        fests.append(fest.text.split('\\n')[0])\n",
    "    except:\n",
    "        None"
   ]
  },
  {
   "cell_type": "code",
   "execution_count": 6,
   "id": "a17bb548",
   "metadata": {},
   "outputs": [],
   "source": [
    "pd.DataFrame({'Festival':fests}).to_csv('../data/Dod_fest.csv',index=False)"
   ]
  },
  {
   "cell_type": "code",
   "execution_count": 7,
   "id": "a53d5855",
   "metadata": {},
   "outputs": [
    {
     "data": {
      "text/html": [
       "<div>\n",
       "<style scoped>\n",
       "    .dataframe tbody tr th:only-of-type {\n",
       "        vertical-align: middle;\n",
       "    }\n",
       "\n",
       "    .dataframe tbody tr th {\n",
       "        vertical-align: top;\n",
       "    }\n",
       "\n",
       "    .dataframe thead th {\n",
       "        text-align: right;\n",
       "    }\n",
       "</style>\n",
       "<table border=\"1\" class=\"dataframe\">\n",
       "  <thead>\n",
       "    <tr style=\"text-align: right;\">\n",
       "      <th></th>\n",
       "      <th>Festival</th>\n",
       "    </tr>\n",
       "  </thead>\n",
       "  <tbody>\n",
       "    <tr>\n",
       "      <th>0</th>\n",
       "      <td>WAN 2023 Madrid</td>\n",
       "    </tr>\n",
       "    <tr>\n",
       "      <th>1</th>\n",
       "      <td>Inverfest 2023</td>\n",
       "    </tr>\n",
       "    <tr>\n",
       "      <th>2</th>\n",
       "      <td>Actual Festival 2023</td>\n",
       "    </tr>\n",
       "    <tr>\n",
       "      <th>3</th>\n",
       "      <td>Microsonidos 2023</td>\n",
       "    </tr>\n",
       "    <tr>\n",
       "      <th>4</th>\n",
       "      <td>Horteralia 2023</td>\n",
       "    </tr>\n",
       "    <tr>\n",
       "      <th>...</th>\n",
       "      <td>...</td>\n",
       "    </tr>\n",
       "    <tr>\n",
       "      <th>255</th>\n",
       "      <td>Primavera Sound Buenos Aires 2023</td>\n",
       "    </tr>\n",
       "    <tr>\n",
       "      <th>256</th>\n",
       "      <td>Primavera Sound Santiago de Chile 2023</td>\n",
       "    </tr>\n",
       "    <tr>\n",
       "      <th>257</th>\n",
       "      <td>Lollapalooza Chile 2023</td>\n",
       "    </tr>\n",
       "    <tr>\n",
       "      <th>258</th>\n",
       "      <td>Lollapalooza Argentina 2023</td>\n",
       "    </tr>\n",
       "    <tr>\n",
       "      <th>259</th>\n",
       "      <td>Festival Nrmal 2021</td>\n",
       "    </tr>\n",
       "  </tbody>\n",
       "</table>\n",
       "<p>260 rows × 1 columns</p>\n",
       "</div>"
      ],
      "text/plain": [
       "                                   Festival\n",
       "0                           WAN 2023 Madrid\n",
       "1                            Inverfest 2023\n",
       "2                      Actual Festival 2023\n",
       "3                         Microsonidos 2023\n",
       "4                           Horteralia 2023\n",
       "..                                      ...\n",
       "255       Primavera Sound Buenos Aires 2023\n",
       "256  Primavera Sound Santiago de Chile 2023\n",
       "257                 Lollapalooza Chile 2023\n",
       "258             Lollapalooza Argentina 2023\n",
       "259                     Festival Nrmal 2021\n",
       "\n",
       "[260 rows x 1 columns]"
      ]
     },
     "execution_count": 7,
     "metadata": {},
     "output_type": "execute_result"
    }
   ],
   "source": [
    "pd.DataFrame({'Festival':fests})"
   ]
  },
  {
   "cell_type": "code",
   "execution_count": 30,
   "id": "098127b7",
   "metadata": {},
   "outputs": [
    {
     "data": {
      "text/html": [
       "<div>\n",
       "<style scoped>\n",
       "    .dataframe tbody tr th:only-of-type {\n",
       "        vertical-align: middle;\n",
       "    }\n",
       "\n",
       "    .dataframe tbody tr th {\n",
       "        vertical-align: top;\n",
       "    }\n",
       "\n",
       "    .dataframe thead th {\n",
       "        text-align: right;\n",
       "    }\n",
       "</style>\n",
       "<table border=\"1\" class=\"dataframe\">\n",
       "  <thead>\n",
       "    <tr style=\"text-align: right;\">\n",
       "      <th></th>\n",
       "      <th>Festival</th>\n",
       "      <th>Fecha</th>\n",
       "      <th>Ciudad</th>\n",
       "      <th>url</th>\n",
       "    </tr>\n",
       "  </thead>\n",
       "  <tbody>\n",
       "    <tr>\n",
       "      <th>0</th>\n",
       "      <td>WAN 2023 Madrid</td>\n",
       "      <td>1 de enero</td>\n",
       "      <td>Madrid</td>\n",
       "      <td>https://www.dodmagazine.es/festivales/wan-madrid/</td>\n",
       "    </tr>\n",
       "    <tr>\n",
       "      <th>1</th>\n",
       "      <td>Inverfest 2023</td>\n",
       "      <td>de enero a mayo</td>\n",
       "      <td>Madrid</td>\n",
       "      <td>https://www.dodmagazine.es/festivales/inverfest/</td>\n",
       "    </tr>\n",
       "    <tr>\n",
       "      <th>2</th>\n",
       "      <td>Actual Festival 2023</td>\n",
       "      <td>del 2 al 7 de enero</td>\n",
       "      <td>Logroño</td>\n",
       "      <td>https://www.dodmagazine.es/festivales/actual-f...</td>\n",
       "    </tr>\n",
       "    <tr>\n",
       "      <th>3</th>\n",
       "      <td>Microsonidos 2023</td>\n",
       "      <td>de febrero a marzo</td>\n",
       "      <td>Murcia</td>\n",
       "      <td>https://www.dodmagazine.es/festivales/microson...</td>\n",
       "    </tr>\n",
       "    <tr>\n",
       "      <th>4</th>\n",
       "      <td>Horteralia 2023</td>\n",
       "      <td>18 de marzo</td>\n",
       "      <td>Madrid</td>\n",
       "      <td>https://www.dodmagazine.es/festivales/horteralia/</td>\n",
       "    </tr>\n",
       "  </tbody>\n",
       "</table>\n",
       "</div>"
      ],
      "text/plain": [
       "               Festival                Fecha   Ciudad   \n",
       "0       WAN 2023 Madrid           1 de enero   Madrid  \\\n",
       "1        Inverfest 2023      de enero a mayo   Madrid   \n",
       "2  Actual Festival 2023  del 2 al 7 de enero  Logroño   \n",
       "3     Microsonidos 2023   de febrero a marzo   Murcia   \n",
       "4       Horteralia 2023          18 de marzo   Madrid   \n",
       "\n",
       "                                                 url  \n",
       "0  https://www.dodmagazine.es/festivales/wan-madrid/  \n",
       "1   https://www.dodmagazine.es/festivales/inverfest/  \n",
       "2  https://www.dodmagazine.es/festivales/actual-f...  \n",
       "3  https://www.dodmagazine.es/festivales/microson...  \n",
       "4  https://www.dodmagazine.es/festivales/horteralia/  "
      ]
     },
     "execution_count": 30,
     "metadata": {},
     "output_type": "execute_result"
    }
   ],
   "source": [
    "df_fest.head()"
   ]
  },
  {
   "cell_type": "code",
   "execution_count": 31,
   "id": "5611db49",
   "metadata": {
    "scrolled": true
   },
   "outputs": [
    {
     "name": "stdout",
     "output_type": "stream",
     "text": [
      "<class 'pandas.core.frame.DataFrame'>\n",
      "RangeIndex: 260 entries, 0 to 259\n",
      "Data columns (total 4 columns):\n",
      " #   Column    Non-Null Count  Dtype \n",
      "---  ------    --------------  ----- \n",
      " 0   Festival  260 non-null    object\n",
      " 1   Fecha     259 non-null    object\n",
      " 2   Ciudad    253 non-null    object\n",
      " 3   url       260 non-null    object\n",
      "dtypes: object(4)\n",
      "memory usage: 8.2+ KB\n"
     ]
    }
   ],
   "source": [
    "df_fest.info()"
   ]
  },
  {
   "cell_type": "code",
   "execution_count": 33,
   "id": "648c588c",
   "metadata": {
    "scrolled": true
   },
   "outputs": [
    {
     "data": {
      "text/html": [
       "<div>\n",
       "<style scoped>\n",
       "    .dataframe tbody tr th:only-of-type {\n",
       "        vertical-align: middle;\n",
       "    }\n",
       "\n",
       "    .dataframe tbody tr th {\n",
       "        vertical-align: top;\n",
       "    }\n",
       "\n",
       "    .dataframe thead th {\n",
       "        text-align: right;\n",
       "    }\n",
       "</style>\n",
       "<table border=\"1\" class=\"dataframe\">\n",
       "  <thead>\n",
       "    <tr style=\"text-align: right;\">\n",
       "      <th></th>\n",
       "      <th>Festival</th>\n",
       "      <th>Fecha</th>\n",
       "      <th>Ciudad</th>\n",
       "      <th>url</th>\n",
       "    </tr>\n",
       "  </thead>\n",
       "  <tbody>\n",
       "    <tr>\n",
       "      <th>11</th>\n",
       "      <td>Ressons Penedès 2023</td>\n",
       "      <td>28 al 30 de abril</td>\n",
       "      <td>NaN</td>\n",
       "      <td>https://www.dodmagazine.es/festivales/ressons-...</td>\n",
       "    </tr>\n",
       "    <tr>\n",
       "      <th>45</th>\n",
       "      <td>El Bosque Sonoro 2023</td>\n",
       "      <td>del 17 al 25 de junio</td>\n",
       "      <td>NaN</td>\n",
       "      <td>https://www.dodmagazine.es/festivales/el-bosqu...</td>\n",
       "    </tr>\n",
       "    <tr>\n",
       "      <th>47</th>\n",
       "      <td>Share Festival 2023</td>\n",
       "      <td>9 y 10 de junio</td>\n",
       "      <td>NaN</td>\n",
       "      <td>https://www.dodmagazine.es/festivales/share-fe...</td>\n",
       "    </tr>\n",
       "    <tr>\n",
       "      <th>60</th>\n",
       "      <td>Icónica Sevilla Fest 2023</td>\n",
       "      <td>NaN</td>\n",
       "      <td>NaN</td>\n",
       "      <td>https://www.dodmagazine.es/festivales/iconica-...</td>\n",
       "    </tr>\n",
       "    <tr>\n",
       "      <th>172</th>\n",
       "      <td>Irun Zuzenean Festibala 2023</td>\n",
       "      <td>29 y 30 de septiembre</td>\n",
       "      <td>NaN</td>\n",
       "      <td>https://www.dodmagazine.es/festivales/irun-zuz...</td>\n",
       "    </tr>\n",
       "    <tr>\n",
       "      <th>186</th>\n",
       "      <td>Tónal 2022</td>\n",
       "      <td>del 30 de septiembre al 2 de octubre</td>\n",
       "      <td>NaN</td>\n",
       "      <td>https://www.dodmagazine.es/festivales/tonal/</td>\n",
       "    </tr>\n",
       "    <tr>\n",
       "      <th>221</th>\n",
       "      <td>Benás Festival 2022</td>\n",
       "      <td>Benasque</td>\n",
       "      <td>NaN</td>\n",
       "      <td>https://www.dodmagazine.es/festivales/benas-fe...</td>\n",
       "    </tr>\n",
       "  </tbody>\n",
       "</table>\n",
       "</div>"
      ],
      "text/plain": [
       "                         Festival                                 Fecha   \n",
       "11           Ressons Penedès 2023                     28 al 30 de abril  \\\n",
       "45          El Bosque Sonoro 2023                 del 17 al 25 de junio   \n",
       "47            Share Festival 2023                       9 y 10 de junio   \n",
       "60      Icónica Sevilla Fest 2023                                   NaN   \n",
       "172  Irun Zuzenean Festibala 2023                 29 y 30 de septiembre   \n",
       "186                    Tónal 2022  del 30 de septiembre al 2 de octubre   \n",
       "221           Benás Festival 2022                              Benasque   \n",
       "\n",
       "    Ciudad                                                url  \n",
       "11     NaN  https://www.dodmagazine.es/festivales/ressons-...  \n",
       "45     NaN  https://www.dodmagazine.es/festivales/el-bosqu...  \n",
       "47     NaN  https://www.dodmagazine.es/festivales/share-fe...  \n",
       "60     NaN  https://www.dodmagazine.es/festivales/iconica-...  \n",
       "172    NaN  https://www.dodmagazine.es/festivales/irun-zuz...  \n",
       "186    NaN       https://www.dodmagazine.es/festivales/tonal/  \n",
       "221    NaN  https://www.dodmagazine.es/festivales/benas-fe...  "
      ]
     },
     "execution_count": 33,
     "metadata": {},
     "output_type": "execute_result"
    }
   ],
   "source": [
    "df_fest[df_fest.Ciudad.isna()]"
   ]
  },
  {
   "cell_type": "code",
   "execution_count": 41,
   "id": "2b271c48",
   "metadata": {},
   "outputs": [],
   "source": [
    "driver.get(df_fest.url[1])"
   ]
  },
  {
   "cell_type": "code",
   "execution_count": 42,
   "id": "62673bf6",
   "metadata": {},
   "outputs": [
    {
     "data": {
      "text/plain": [
       "'Robledo - En concierto'"
      ]
     },
     "execution_count": 42,
     "metadata": {},
     "output_type": "execute_result"
    }
   ],
   "source": [
    "driver.find_elements(By.XPATH,\n",
    "                     '/html/body/section[3]/div/div[1]/div[1]/div[1]/div[2]/div/div/span/ul/li')[-1].text"
   ]
  },
  {
   "cell_type": "code",
   "execution_count": 37,
   "id": "6b988454",
   "metadata": {},
   "outputs": [],
   "source": [
    "cartel_XPATH = '/html/body/section[3]/div/div[1]/div[1]/div[1]/div[2]/div/div/span/ul/li'\n"
   ]
  },
  {
   "cell_type": "code",
   "execution_count": 43,
   "id": "f44e0400",
   "metadata": {},
   "outputs": [
    {
     "data": {
      "text/plain": [
       "['Camela – Presenta su nuevo álbum Que la Música te Acompañe',\n",
       " 'Rulo y la Contrabanda – Concierto dentro de su gira “25 Años de Canciones: Noches de Fuga y Contrabando”',\n",
       " 'Funambulista – Estreno de disco Animal y arranque de gira Animal Tour',\n",
       " 'Los Zigarros – Concierto 10º Aniversario',\n",
       " 'Morgan – Concierto especial Morgan & the Golden Family',\n",
       " 'Tindersticks – Presenta su gira 30 Aniversario: Tindersticks with orchestra and guests',\n",
       " 'Carlos Núñez – Gran Fiesta Anual Celta',\n",
       " 'Club del Río – Fin de su gira Lejos contigo',\n",
       " 'El Milagro de P. Tinto - FETÉN FETÉN (cine con música en directo). Proyección de la película El Milagro de P. Tinto con música en directo de Fetén Fetén',\n",
       " 'Los Estanques y Anni B Sweet – Presentación de su disco conjunto: Burbuja Cómoda y Elefante Inesperado',\n",
       " 'Depedro – Concierto dentro de su gira Máquina de Piedad',\n",
       " 'Antílopez – Presentación de su nuevo disco Mutar Fama',\n",
       " 'Belén Aguilera – Presenta su nuevo show Superpop',\n",
       " 'Arcángel - Presenta su nuevo espectáculo Flamenco Diverso',\n",
       " 'Christina Rosenvinge – Concierto 30 Aniversario de su disco Que me parta un rayo',\n",
       " 'María Pelae – Concierto fin de gira La Folcrónica',\n",
       " 'Izaro – Concierto de fin de su gira Limones de Oro',\n",
       " 'Second – Presenta su nuevo disco Flores Imposibles',\n",
       " 'Tian Lara + Pablo Chiapella – Espectáculo El Anti-Coach (Comedy)',\n",
       " 'Israel Fernández – nuevo espectáculo Pura Sangre',\n",
       " 'Kevin Johansen – Presenta su nuevo disco Tú Vé ',\n",
       " 'Recycled J – en concierto',\n",
       " 'Guitarricadelafuente – Presenta su álbum debut La Cantera',\n",
       " 'Derby Motoreta Burrito Kachimba – Fin de gira Hilo Negro',\n",
       " 'Space Hammu – En concierto',\n",
       " 'Alice Wonder – Fin de gira Que Se Joda Todo Lo Demás',\n",
       " 'Iseo & Dodosound – Concierto Gira Blossom in The Club',\n",
       " 'Amaia – Presenta nuevo disco Cuando no sé quién soy',\n",
       " 'Winter Swing Party II – Noche de baile con música en directo',\n",
       " 'Baiuca – Concierto fin de gira Embruxo',\n",
       " 'Nacho Vegas – Presenta su nuevo disco Mundos Inmóviles Derrumbándose',\n",
       " 'Sexy Zebras –Concierto dentro de su gira Jaleo Tour',\n",
       " 'La Bien Querida - Presenta su nuevo álbum Paprika',\n",
       " 'Sra. Tomasa – Nuevo espectáculo',\n",
       " 'EDE – Presenta su álbum debut Lucero',\n",
       " 'Lagartija Nick - Presentan Homenaje a la generación del 27\\n ',\n",
       " 'Tomasito – Presenta Agustisimísimo',\n",
       " 'Valira – Presenta Luz Errante Tour',\n",
       " 'Amatria – Presenta su nuevo álbum Un Disco',\n",
       " 'DakhaBrakha  en concierto',\n",
       " 'L.A. – Estreno nueva gira Songs and Stories Tour',\n",
       " '31 fam – Pre-estreno nueva gira',\n",
       " 'Jenny & The Mexicats – Presentan su nuevo disco Fiesta Ancestral',\n",
       " 'Aiko el grupo + Pipiolas  en concierto',\n",
       " 'Sex Museum - Presentan nuevo disco Museexum',\n",
       " 'Gilipojazz – Presenta su nuevo disco ¿Dónde está el jazz?',\n",
       " 'Nøgen – Presentan su disco Under Alt',\n",
       " 'Jimmy Barnatán - Concierto dentro de la gira El Americano Tour',\n",
       " 'Eladio y Los Seres Queridos – Presentan su nuevo espectáculo Academia',\n",
       " 'Anabel Lee – Concierto fin de gira Ni Indie ni Punk',\n",
       " 'La Pantera – Presenta su nuevo proyecto London Blue',\n",
       " 'Sharif – Espectáculo poesía (InverVerso)',\n",
       " 'La Plazuela – En concierto',\n",
       " 'Ona Mafalda – Concierto arranque de nuevo proyecto',\n",
       " 'Biela – Nuevo espectáculo',\n",
       " 'Los Niños Jesús – Concierto debut en Madrid',\n",
       " 'Víctor Coyote – Presenta Ruido bajito no es una contradicción (InverVerso)',\n",
       " 'Tangerine Flavour + Suso Díaz & The Appaloosas – En concierto',\n",
       " 'Soledad Vélez – Presenta su nuevo disco Visiones',\n",
       " 'Egon Soda – En concierto',\n",
       " 'Doctor Explosiónes – Presenta su nuevo trabajo discográfico Superioridad Moral',\n",
       " 'Miren – Presenta su nuevo disco A Partes',\n",
       " 'Marina Herlop – Presenta su nuevo álbum Pripyat ',\n",
       " 'Sila Lúa – Presenta su álbum debut Rompe',\n",
       " 'Irenegarry  - Presenta su álbum debut Mandona',\n",
       " 'Nuria Graham – Presenta su nuevo trabajo Cyclamen',\n",
       " 'Suso Sudón - Presenta su libro Ahí fuera (InverVerso)',\n",
       " 'Red Cactus – Presenta su álbum debut Red Cactus (Concurso Hyundai)',\n",
       " 'Le Nais - Presenta AM I + La Paloma - En concierto',\n",
       " 'Begut - Presenta su primer EP Que hablo demasiado',\n",
       " 'Pau Vegas - Presenta su álbum debut',\n",
       " 'Grex - Presenta su EP Como quieres que te quiera',\n",
       " 'Casero – Presenta su nuevo álbum Me doy cuenta',\n",
       " 'Vinson + Mr. Cobol - En concierto',\n",
       " 'Pecker – Presenta El Incendio Perfecto (InverVerso)',\n",
       " 'Moanday - En concierto (Concurso Hyundai)',\n",
       " 'Pablo und Destruction - En concierto telonero Alberto Acinas',\n",
       " 'L3mur + Nothingood  + Coco Wine - En concierto',\n",
       " 'Carlos Salem + Luter + Luix Kaf (InverVerso)',\n",
       " 'Le Birrette - En concierto',\n",
       " 'Ignatius Farray + Inés Hernánd - Presentan con Payasos y fuego (Comedy)',\n",
       " 'Grison - En directo (Comedy)',\n",
       " 'Dani Fernández + Sergio Bezos + Fran Pati - Presentan sus monólogos (Comedy)',\n",
       " 'Luis Álvaro + Roberto Bodegas- Presentan sus monólogos (Comedy)',\n",
       " 'Soleá Morente - Presenta Aurora y Enrique',\n",
       " 'Litus & Brossa Quartet - En concierto',\n",
       " 'El Pequeño País del Swing - Presentan su musical familiar',\n",
       " 'Varry Brava -Presentan su conciertoelectroacústico teloneros: Belapalma',\n",
       " 'Anni B Sweet - Concierto acústico. Teloneros: Popdata',\n",
       " 'Alberto San Juan y Fernando Egozcue - Presentan Amar',\n",
       " 'Soleá Morente  - En acústico presenta Aurora y Enrique',\n",
       " 'Rock en Familia - Presenta Hijos del Rock And Roll',\n",
       " 'Leo Jiménez - En concierto',\n",
       " 'Robledo - En concierto']"
      ]
     },
     "execution_count": 43,
     "metadata": {},
     "output_type": "execute_result"
    }
   ],
   "source": [
    "[artist.text for artist in driver.find_elements(By.XPATH,cartel_XPATH)]"
   ]
  },
  {
   "cell_type": "code",
   "execution_count": 44,
   "id": "c37fbcd2",
   "metadata": {},
   "outputs": [
    {
     "data": {
      "text/html": [
       "<div>\n",
       "<style scoped>\n",
       "    .dataframe tbody tr th:only-of-type {\n",
       "        vertical-align: middle;\n",
       "    }\n",
       "\n",
       "    .dataframe tbody tr th {\n",
       "        vertical-align: top;\n",
       "    }\n",
       "\n",
       "    .dataframe thead th {\n",
       "        text-align: right;\n",
       "    }\n",
       "</style>\n",
       "<table border=\"1\" class=\"dataframe\">\n",
       "  <thead>\n",
       "    <tr style=\"text-align: right;\">\n",
       "      <th></th>\n",
       "      <th>Festival</th>\n",
       "      <th>Fecha</th>\n",
       "      <th>Ciudad</th>\n",
       "      <th>url</th>\n",
       "      <th>Cartel</th>\n",
       "    </tr>\n",
       "  </thead>\n",
       "  <tbody>\n",
       "    <tr>\n",
       "      <th>0</th>\n",
       "      <td>WAN 2023 Madrid</td>\n",
       "      <td>1 de enero</td>\n",
       "      <td>Madrid</td>\n",
       "      <td>https://www.dodmagazine.es/festivales/wan-madrid/</td>\n",
       "      <td>[DENNIS CRUZ, FER BR, GONÇALO, LEN FAKI, MAHON...</td>\n",
       "    </tr>\n",
       "    <tr>\n",
       "      <th>1</th>\n",
       "      <td>Inverfest 2023</td>\n",
       "      <td>de enero a mayo</td>\n",
       "      <td>Madrid</td>\n",
       "      <td>https://www.dodmagazine.es/festivales/inverfest/</td>\n",
       "      <td>[Camela – Presenta su nuevo álbum Que la Músic...</td>\n",
       "    </tr>\n",
       "    <tr>\n",
       "      <th>2</th>\n",
       "      <td>Actual Festival 2023</td>\n",
       "      <td>del 2 al 7 de enero</td>\n",
       "      <td>Logroño</td>\n",
       "      <td>https://www.dodmagazine.es/festivales/actual-f...</td>\n",
       "      <td>[2 de enero - Morgan y Fito &amp; Fitipaldis, 3 de...</td>\n",
       "    </tr>\n",
       "    <tr>\n",
       "      <th>3</th>\n",
       "      <td>Microsonidos 2023</td>\n",
       "      <td>de febrero a marzo</td>\n",
       "      <td>Murcia</td>\n",
       "      <td>https://www.dodmagazine.es/festivales/microson...</td>\n",
       "      <td>[3 FEB - WAKAME - LA YESERÍA - ENTRADAS, 3 FEB...</td>\n",
       "    </tr>\n",
       "    <tr>\n",
       "      <th>4</th>\n",
       "      <td>Horteralia 2023</td>\n",
       "      <td>18 de marzo</td>\n",
       "      <td>Madrid</td>\n",
       "      <td>https://www.dodmagazine.es/festivales/horteralia/</td>\n",
       "      <td>[Ojete Calor, Nancys Rubias, Raúl, Rosa, Ku Mi...</td>\n",
       "    </tr>\n",
       "  </tbody>\n",
       "</table>\n",
       "</div>"
      ],
      "text/plain": [
       "               Festival                Fecha   Ciudad   \n",
       "0       WAN 2023 Madrid           1 de enero   Madrid  \\\n",
       "1        Inverfest 2023      de enero a mayo   Madrid   \n",
       "2  Actual Festival 2023  del 2 al 7 de enero  Logroño   \n",
       "3     Microsonidos 2023   de febrero a marzo   Murcia   \n",
       "4       Horteralia 2023          18 de marzo   Madrid   \n",
       "\n",
       "                                                 url   \n",
       "0  https://www.dodmagazine.es/festivales/wan-madrid/  \\\n",
       "1   https://www.dodmagazine.es/festivales/inverfest/   \n",
       "2  https://www.dodmagazine.es/festivales/actual-f...   \n",
       "3  https://www.dodmagazine.es/festivales/microson...   \n",
       "4  https://www.dodmagazine.es/festivales/horteralia/   \n",
       "\n",
       "                                              Cartel  \n",
       "0  [DENNIS CRUZ, FER BR, GONÇALO, LEN FAKI, MAHON...  \n",
       "1  [Camela – Presenta su nuevo álbum Que la Músic...  \n",
       "2  [2 de enero - Morgan y Fito & Fitipaldis, 3 de...  \n",
       "3  [3 FEB - WAKAME - LA YESERÍA - ENTRADAS, 3 FEB...  \n",
       "4  [Ojete Calor, Nancys Rubias, Raúl, Rosa, Ku Mi...  "
      ]
     },
     "execution_count": 44,
     "metadata": {},
     "output_type": "execute_result"
    }
   ],
   "source": [
    "cartel = []\n",
    "for url in df_fest.url:\n",
    "    driver.get(url)\n",
    "    time.sleep(3)\n",
    "    try:\n",
    "        cart = driver.find_elements(By.XPATH,cartel_XPATH)\n",
    "        artists = [artist.text for artist in cart]\n",
    "        cartel.append(artists)    \n",
    "    \n",
    "    except:\n",
    "        cartel.append(None)\n",
    "\n",
    "df_fest['Cartel'] = cartel\n",
    "df_fest.head()"
   ]
  },
  {
   "cell_type": "code",
   "execution_count": 46,
   "id": "32886e79",
   "metadata": {},
   "outputs": [
    {
     "name": "stdout",
     "output_type": "stream",
     "text": [
      "<class 'pandas.core.frame.DataFrame'>\n",
      "RangeIndex: 260 entries, 0 to 259\n",
      "Data columns (total 5 columns):\n",
      " #   Column    Non-Null Count  Dtype \n",
      "---  ------    --------------  ----- \n",
      " 0   Festival  260 non-null    object\n",
      " 1   Fecha     259 non-null    object\n",
      " 2   Ciudad    253 non-null    object\n",
      " 3   url       260 non-null    object\n",
      " 4   Cartel    260 non-null    object\n",
      "dtypes: object(5)\n",
      "memory usage: 10.3+ KB\n"
     ]
    }
   ],
   "source": [
    "df_fest.info()"
   ]
  },
  {
   "cell_type": "code",
   "execution_count": 47,
   "id": "f7887def",
   "metadata": {},
   "outputs": [
    {
     "data": {
      "text/plain": [
       "0      [DENNIS CRUZ, FER BR, GONÇALO, LEN FAKI, MAHON...\n",
       "1      [Camela – Presenta su nuevo álbum Que la Músic...\n",
       "2      [2 de enero - Morgan y Fito & Fitipaldis, 3 de...\n",
       "3      [3 FEB - WAKAME - LA YESERÍA - ENTRADAS, 3 FEB...\n",
       "4      [Ojete Calor, Nancys Rubias, Raúl, Rosa, Ku Mi...\n",
       "                             ...                        \n",
       "255    [Arctic Monkeys, Lorde, Travis Scott, Björk, I...\n",
       "256    [Arctic Monkeys, Lorde, Travis Scott, Björk, I...\n",
       "257    [DRAKE, BILLIE EILISH, BLINK-182, TAME IMPALA,...\n",
       "258                                                   []\n",
       "259                                                   []\n",
       "Name: Cartel, Length: 260, dtype: object"
      ]
     },
     "execution_count": 47,
     "metadata": {},
     "output_type": "execute_result"
    }
   ],
   "source": [
    "df_fest.Cartel"
   ]
  },
  {
   "cell_type": "code",
   "execution_count": 49,
   "id": "0f443266",
   "metadata": {},
   "outputs": [
    {
     "data": {
      "text/html": [
       "<div>\n",
       "<style scoped>\n",
       "    .dataframe tbody tr th:only-of-type {\n",
       "        vertical-align: middle;\n",
       "    }\n",
       "\n",
       "    .dataframe tbody tr th {\n",
       "        vertical-align: top;\n",
       "    }\n",
       "\n",
       "    .dataframe thead th {\n",
       "        text-align: right;\n",
       "    }\n",
       "</style>\n",
       "<table border=\"1\" class=\"dataframe\">\n",
       "  <thead>\n",
       "    <tr style=\"text-align: right;\">\n",
       "      <th></th>\n",
       "      <th>Festival</th>\n",
       "      <th>Fecha</th>\n",
       "      <th>Ciudad</th>\n",
       "      <th>url</th>\n",
       "      <th>Cartel</th>\n",
       "    </tr>\n",
       "  </thead>\n",
       "  <tbody>\n",
       "    <tr>\n",
       "      <th>146</th>\n",
       "      <td>CanelaParty 2023</td>\n",
       "      <td>del 23 al 26 de agosto</td>\n",
       "      <td>Torremolinos</td>\n",
       "      <td>https://www.dodmagazine.es/festivales/canelapa...</td>\n",
       "      <td>[Biznaga, Jonathan Bree, Crack Cloud, Joe Unkn...</td>\n",
       "    </tr>\n",
       "  </tbody>\n",
       "</table>\n",
       "</div>"
      ],
      "text/plain": [
       "             Festival                   Fecha        Ciudad   \n",
       "146  CanelaParty 2023  del 23 al 26 de agosto  Torremolinos  \\\n",
       "\n",
       "                                                   url   \n",
       "146  https://www.dodmagazine.es/festivales/canelapa...  \\\n",
       "\n",
       "                                                Cartel  \n",
       "146  [Biznaga, Jonathan Bree, Crack Cloud, Joe Unkn...  "
      ]
     },
     "execution_count": 49,
     "metadata": {},
     "output_type": "execute_result"
    }
   ],
   "source": [
    "df_fest[df_fest.Festival.str.contains('Canela')]"
   ]
  },
  {
   "cell_type": "code",
   "execution_count": null,
   "id": "5db9cd91",
   "metadata": {},
   "outputs": [],
   "source": []
  },
  {
   "cell_type": "code",
   "execution_count": 51,
   "id": "f992ba99",
   "metadata": {
    "scrolled": true
   },
   "outputs": [
    {
     "data": {
      "text/html": [
       "<div>\n",
       "<style scoped>\n",
       "    .dataframe tbody tr th:only-of-type {\n",
       "        vertical-align: middle;\n",
       "    }\n",
       "\n",
       "    .dataframe tbody tr th {\n",
       "        vertical-align: top;\n",
       "    }\n",
       "\n",
       "    .dataframe thead th {\n",
       "        text-align: right;\n",
       "    }\n",
       "</style>\n",
       "<table border=\"1\" class=\"dataframe\">\n",
       "  <thead>\n",
       "    <tr style=\"text-align: right;\">\n",
       "      <th></th>\n",
       "      <th>Festival</th>\n",
       "      <th>Fecha</th>\n",
       "      <th>Ciudad</th>\n",
       "      <th>url</th>\n",
       "      <th>Cartel</th>\n",
       "    </tr>\n",
       "  </thead>\n",
       "  <tbody>\n",
       "    <tr>\n",
       "      <th>255</th>\n",
       "      <td>Primavera Sound Buenos Aires 2023</td>\n",
       "      <td>12 y 13 de noviembre</td>\n",
       "      <td>Buenos Aires</td>\n",
       "      <td>https://www.dodmagazine.es/festivales/primaver...</td>\n",
       "      <td>[Arctic Monkeys, Lorde, Travis Scott, Björk, I...</td>\n",
       "    </tr>\n",
       "    <tr>\n",
       "      <th>256</th>\n",
       "      <td>Primavera Sound Santiago de Chile 2023</td>\n",
       "      <td>12 y 13 de noviembre</td>\n",
       "      <td>Santiago de Chile</td>\n",
       "      <td>https://www.dodmagazine.es/festivales/primaver...</td>\n",
       "      <td>[Arctic Monkeys, Lorde, Travis Scott, Björk, I...</td>\n",
       "    </tr>\n",
       "  </tbody>\n",
       "</table>\n",
       "</div>"
      ],
      "text/plain": [
       "                                   Festival                 Fecha   \n",
       "255       Primavera Sound Buenos Aires 2023  12 y 13 de noviembre  \\\n",
       "256  Primavera Sound Santiago de Chile 2023  12 y 13 de noviembre   \n",
       "\n",
       "                Ciudad                                                url   \n",
       "255       Buenos Aires  https://www.dodmagazine.es/festivales/primaver...  \\\n",
       "256  Santiago de Chile  https://www.dodmagazine.es/festivales/primaver...   \n",
       "\n",
       "                                                Cartel  \n",
       "255  [Arctic Monkeys, Lorde, Travis Scott, Björk, I...  \n",
       "256  [Arctic Monkeys, Lorde, Travis Scott, Björk, I...  "
      ]
     },
     "execution_count": 51,
     "metadata": {},
     "output_type": "execute_result"
    }
   ],
   "source": [
    "df_fest.iloc[255:257]"
   ]
  }
 ],
 "metadata": {
  "kernelspec": {
   "display_name": "Python 3 (ipykernel)",
   "language": "python",
   "name": "python3"
  },
  "language_info": {
   "codemirror_mode": {
    "name": "ipython",
    "version": 3
   },
   "file_extension": ".py",
   "mimetype": "text/x-python",
   "name": "python",
   "nbconvert_exporter": "python",
   "pygments_lexer": "ipython3",
   "version": "3.9.15"
  },
  "varInspector": {
   "cols": {
    "lenName": 16,
    "lenType": 16,
    "lenVar": 40
   },
   "kernels_config": {
    "python": {
     "delete_cmd_postfix": "",
     "delete_cmd_prefix": "del ",
     "library": "var_list.py",
     "varRefreshCmd": "print(var_dic_list())"
    },
    "r": {
     "delete_cmd_postfix": ") ",
     "delete_cmd_prefix": "rm(",
     "library": "var_list.r",
     "varRefreshCmd": "cat(var_dic_list()) "
    }
   },
   "types_to_exclude": [
    "module",
    "function",
    "builtin_function_or_method",
    "instance",
    "_Feature"
   ],
   "window_display": false
  }
 },
 "nbformat": 4,
 "nbformat_minor": 5
}
