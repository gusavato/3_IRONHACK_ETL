{
 "cells": [
  {
   "cell_type": "code",
   "execution_count": 1,
   "id": "5e912e57",
   "metadata": {},
   "outputs": [],
   "source": [
    "from selenium import webdriver\n",
    "from selenium.webdriver.chrome.options import Options\n",
    "from webdriver_manager.chrome import ChromeDriverManager\n",
    "from selenium.webdriver.common.by import By\n",
    "import time\n",
    "import warnings\n",
    "warnings.filterwarnings('ignore')  "
   ]
  },
  {
   "cell_type": "code",
   "execution_count": 2,
   "id": "9f6dea7a",
   "metadata": {},
   "outputs": [],
   "source": [
    "#driver configuration\n",
    "opciones=Options()\n",
    "\n",
    "\n",
    "opciones.add_experimental_option('excludeSwitches', ['enable-automation'])\n",
    "opciones.add_experimental_option('useAutomationExtension', False)\n",
    "opciones.headless=False    # si True, no aperece la ventana (headless=no visible)\n",
    "opciones.add_argument('--start-maximized')         # comienza maximizado\n",
    "opciones.add_argument('Cookies')    # mantiene las cookies\n",
    "opciones.add_extension('./Ad_Blocker/adblock.crx')       # adblocker\n",
    "opciones.add_argument('--incognito')"
   ]
  },
  {
   "cell_type": "code",
   "execution_count": 3,
   "id": "916556f5",
   "metadata": {},
   "outputs": [],
   "source": [
    "url = 'https://www.mondosonoro.com/criticas/discos-musica'\n",
    "\n",
    "PATH = ChromeDriverManager().install()     # instala el driver de chrome\n",
    "\n",
    "driver=webdriver.Chrome(PATH,options=opciones)       # abre una venta una de chrome\n",
    "\n",
    "driver.get(url)\n",
    "\n",
    "time.sleep(10)"
   ]
  },
  {
   "cell_type": "code",
   "execution_count": 4,
   "id": "190a20e9",
   "metadata": {},
   "outputs": [],
   "source": [
    "# Boton cerrar boletín\n",
    "driver.find_element(By.CSS_SELECTOR,'div[style=\"padding: 10px;\"]').click()"
   ]
  },
  {
   "cell_type": "code",
   "execution_count": 5,
   "id": "a939ba1a",
   "metadata": {},
   "outputs": [],
   "source": [
    "# Botón de aceptar cookies\n",
    "\n",
    "driver.find_element(By.CLASS_NAME,'sui-AtomButton sui-AtomButton--primary sui-AtomButton--solid sui-AtomButton--center'.replace(' ','.')).click()\n"
   ]
  },
  {
   "cell_type": "code",
   "execution_count": 6,
   "id": "d9ac4dff",
   "metadata": {},
   "outputs": [],
   "source": [
    "url = 'https://www.mondosonoro.com/criticas/discos-musica/page/2/'\n",
    "driver.get(url)"
   ]
  },
  {
   "cell_type": "code",
   "execution_count": 7,
   "id": "e2e66d85",
   "metadata": {},
   "outputs": [],
   "source": [
    "url = 'https://www.mondosonoro.com/criticas/discos-musica'\n",
    "driver.get(url)"
   ]
  },
  {
   "cell_type": "code",
   "execution_count": null,
   "id": "433d0207",
   "metadata": {},
   "outputs": [],
   "source": []
  }
 ],
 "metadata": {
  "kernelspec": {
   "display_name": "Python 3 (ipykernel)",
   "language": "python",
   "name": "python3"
  },
  "language_info": {
   "codemirror_mode": {
    "name": "ipython",
    "version": 3
   },
   "file_extension": ".py",
   "mimetype": "text/x-python",
   "name": "python",
   "nbconvert_exporter": "python",
   "pygments_lexer": "ipython3",
   "version": "3.9.15"
  },
  "varInspector": {
   "cols": {
    "lenName": 16,
    "lenType": 16,
    "lenVar": 40
   },
   "kernels_config": {
    "python": {
     "delete_cmd_postfix": "",
     "delete_cmd_prefix": "del ",
     "library": "var_list.py",
     "varRefreshCmd": "print(var_dic_list())"
    },
    "r": {
     "delete_cmd_postfix": ") ",
     "delete_cmd_prefix": "rm(",
     "library": "var_list.r",
     "varRefreshCmd": "cat(var_dic_list()) "
    }
   },
   "types_to_exclude": [
    "module",
    "function",
    "builtin_function_or_method",
    "instance",
    "_Feature"
   ],
   "window_display": false
  }
 },
 "nbformat": 4,
 "nbformat_minor": 5
}
